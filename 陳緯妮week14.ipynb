{
  "nbformat": 4,
  "nbformat_minor": 0,
  "metadata": {
    "colab": {
      "name": "陳緯妮week14.ipynb",
      "provenance": [],
      "authorship_tag": "ABX9TyMYgyqUj2HxhS5v35ft7GqJ",
      "include_colab_link": true
    },
    "kernelspec": {
      "name": "python3",
      "display_name": "Python 3"
    }
  },
  "cells": [
    {
      "cell_type": "markdown",
      "metadata": {
        "id": "view-in-github",
        "colab_type": "text"
      },
      "source": [
        "<a href=\"https://colab.research.google.com/github/chenweini/Computational-Thinking/blob/master/%E9%99%B3%E7%B7%AF%E5%A6%AEweek14.ipynb\" target=\"_parent\"><img src=\"https://colab.research.google.com/assets/colab-badge.svg\" alt=\"Open In Colab\"/></a>"
      ]
    },
    {
      "cell_type": "code",
      "metadata": {
        "colab": {
          "base_uri": "https://localhost:8080/"
        },
        "id": "QeDV6Y88u_lr",
        "outputId": "cd1b3c66-aef0-4c69-e1f8-b71fc5e8312d"
      },
      "source": [
        "start = int(input('請輸入加總開始值?'))\r\n",
        "end = int(input('請輸入加總終止值?'))\r\n",
        "step = int(input('請輸入遞增減值?'))\r\n",
        "\r\n",
        "sum = 0 #初始條件\r\n",
        "for i in range(start, end, step): #判斷條件\r\n",
        "  sum = sum + i #更新條件\r\n",
        "  print('i為', i, '時,累加結果為', sum)"
      ],
      "execution_count": 3,
      "outputs": [
        {
          "output_type": "stream",
          "text": [
            "請輸入加總開始值?2\n",
            "請輸入加總終止值?10\n",
            "請輸入遞增減值?2\n",
            "i為 2 時,累加結果為 2\n",
            "i為 4 時,累加結果為 6\n",
            "i為 6 時,累加結果為 12\n",
            "i為 8 時,累加結果為 20\n"
          ],
          "name": "stdout"
        }
      ]
    },
    {
      "cell_type": "code",
      "metadata": {
        "colab": {
          "base_uri": "https://localhost:8080/"
        },
        "id": "Sq6-dj9X0Y32",
        "outputId": "3c270ddc-ea19-45ab-9caf-1ce3c963b058"
      },
      "source": [
        "sheet = ['牛奶', '蛋', '咖啡豆']\r\n",
        "for index in [0,1,2]: #位置索引range(3)\r\n",
        "  print (index, sheet[index]) #index是索引值,sheet[index]才是項目"
      ],
      "execution_count": 6,
      "outputs": [
        {
          "output_type": "stream",
          "text": [
            "0 牛奶\n",
            "1 蛋\n",
            "2 咖啡豆\n"
          ],
          "name": "stdout"
        }
      ]
    },
    {
      "cell_type": "code",
      "metadata": {
        "colab": {
          "base_uri": "https://localhost:8080/"
        },
        "id": "xXWkqMoX2iF1",
        "outputId": "3120c65b-9b47-4da9-fd11-11c28401f89c"
      },
      "source": [
        "sheet = ['牛奶', '蛋', '咖啡豆']\r\n",
        "for index in [0,1,2]: #位置索引range[0,1,2]\r\n",
        "  print (index) #index是索引值,sheet[index]才是項目"
      ],
      "execution_count": 10,
      "outputs": [
        {
          "output_type": "stream",
          "text": [
            "0\n",
            "1\n",
            "2\n"
          ],
          "name": "stdout"
        }
      ]
    },
    {
      "cell_type": "code",
      "metadata": {
        "colab": {
          "base_uri": "https://localhost:8080/"
        },
        "id": "PrELtZvG23hS",
        "outputId": "a7533227-a95c-47a3-e5c3-f3529248380c"
      },
      "source": [
        "sheet = ['牛奶', '蛋', '咖啡豆']\r\n",
        "for index in sheet: #位置索引[0,1,2]\r\n",
        "  print (index) #index是索引值,sheet[index]才是項目"
      ],
      "execution_count": 11,
      "outputs": [
        {
          "output_type": "stream",
          "text": [
            "牛奶\n",
            "蛋\n",
            "咖啡豆\n"
          ],
          "name": "stdout"
        }
      ]
    },
    {
      "cell_type": "code",
      "metadata": {
        "colab": {
          "base_uri": "https://localhost:8080/"
        },
        "id": "rL9EtY-H3Eoc",
        "outputId": "eb5dffd6-ae63-4c27-e663-199b3d4a1215"
      },
      "source": [
        "sheet = ['牛奶', '蛋', '咖啡豆']\r\n",
        "for index in range(0,len(sheet)): #位置索引[0,1,2]\r\n",
        "  print (index, sheet[index]) #index是索引值,sheet[index]才是項目"
      ],
      "execution_count": 12,
      "outputs": [
        {
          "output_type": "stream",
          "text": [
            "0 牛奶\n",
            "1 蛋\n",
            "2 咖啡豆\n"
          ],
          "name": "stdout"
        }
      ]
    },
    {
      "cell_type": "code",
      "metadata": {
        "colab": {
          "base_uri": "https://localhost:8080/"
        },
        "id": "VkZlGqGx8Pu2",
        "outputId": "675ccff0-0c25-4cdf-870f-9823d1dbace2"
      },
      "source": [
        "# 雙迴圈,for巢狀迴圈\r\n",
        "for i in range(1,10): # 控制輸出幾行\r\n",
        "  for j in range(1,10): # 每行輸出多少個\r\n",
        "  # 依序將「變數i* 變數j = 變數i 與j 相乘結果」顯示在螢幕\r\n",
        "  # 串接tab,設定sep與end為空字串。\r\n",
        "    print(i, '*', j, '=', i*j, '\\t', sep='',end='')\r\n",
        "print() # 每行輸出後換行"
      ],
      "execution_count": 17,
      "outputs": [
        {
          "output_type": "stream",
          "text": [
            "1*1=1\t1*2=2\t1*3=3\t1*4=4\t1*5=5\t1*6=6\t1*7=7\t1*8=8\t1*9=9\t2*1=2\t2*2=4\t2*3=6\t2*4=8\t2*5=10\t2*6=12\t2*7=14\t2*8=16\t2*9=18\t3*1=3\t3*2=6\t3*3=9\t3*4=12\t3*5=15\t3*6=18\t3*7=21\t3*8=24\t3*9=27\t4*1=4\t4*2=8\t4*3=12\t4*4=16\t4*5=20\t4*6=24\t4*7=28\t4*8=32\t4*9=36\t5*1=5\t5*2=10\t5*3=15\t5*4=20\t5*5=25\t5*6=30\t5*7=35\t5*8=40\t5*9=45\t6*1=6\t6*2=12\t6*3=18\t6*4=24\t6*5=30\t6*6=36\t6*7=42\t6*8=48\t6*9=54\t7*1=7\t7*2=14\t7*3=21\t7*4=28\t7*5=35\t7*6=42\t7*7=49\t7*8=56\t7*9=63\t8*1=8\t8*2=16\t8*3=24\t8*4=32\t8*5=40\t8*6=48\t8*7=56\t8*8=64\t8*9=72\t9*1=9\t9*2=18\t9*3=27\t9*4=36\t9*5=45\t9*6=54\t9*7=63\t9*8=72\t9*9=81\t\n"
          ],
          "name": "stdout"
        }
      ]
    }
  ]
}