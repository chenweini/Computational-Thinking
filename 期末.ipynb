{
  "nbformat": 4,
  "nbformat_minor": 0,
  "metadata": {
    "colab": {
      "name": "期末.ipynb",
      "provenance": [],
      "authorship_tag": "ABX9TyOZn03LQaJhyLxJYtulwDXN",
      "include_colab_link": true
    },
    "kernelspec": {
      "name": "python3",
      "display_name": "Python 3"
    }
  },
  "cells": [
    {
      "cell_type": "markdown",
      "metadata": {
        "id": "view-in-github",
        "colab_type": "text"
      },
      "source": [
        "<a href=\"https://colab.research.google.com/github/chenweini/Computational-Thinking/blob/master/%E6%9C%9F%E6%9C%AB.ipynb\" target=\"_parent\"><img src=\"https://colab.research.google.com/assets/colab-badge.svg\" alt=\"Open In Colab\"/></a>"
      ]
    },
    {
      "cell_type": "code",
      "metadata": {
        "id": "leNHSFz0lBaf",
        "colab": {
          "base_uri": "https://localhost:8080/"
        },
        "outputId": "ac9bc0fe-6806-449c-9999-89d54ab1febb"
      },
      "source": [
        " \n",
        "print(\"歡迎光臨,很高興能為您服務\")\n",
        "print(\"a-日式\",\"b-法式\",\"c-韓式\",\"d-中國菜\")\n",
        "ans = input(\"請輸入您喜好的菜式風格\")\n",
        "if ans == \"c\":\n",
        "  print(\"a-辣炒年糕\", \"b-海鮮煎餅\", \"c-起司部隊鍋\")\n",
        "  q = input(\"請輸入喜歡的菜\")\n",
        "if q == \"a\":\n",
        "   print(\"80\")\n",
        "if q == \"b\":\n",
        "   print(\"200\")\n",
        "if q == \"c\":\n",
        "   print(\"180\")"
      ],
      "execution_count": null,
      "outputs": [
        {
          "output_type": "stream",
          "text": [
            "歡迎光臨,很高興能為您服務\n",
            "a-日式 b-法式 c-韓式 d-中國菜\n"
          ],
          "name": "stdout"
        }
      ]
    }
  ]
}