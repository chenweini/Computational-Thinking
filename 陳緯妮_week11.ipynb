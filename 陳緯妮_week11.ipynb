{
  "nbformat": 4,
  "nbformat_minor": 0,
  "metadata": {
    "colab": {
      "name": "陳緯妮-week11.ipynb",
      "provenance": [],
      "authorship_tag": "ABX9TyOWeI7ujE7IshXsPTT6fVXI",
      "include_colab_link": true
    },
    "kernelspec": {
      "name": "python3",
      "display_name": "Python 3"
    }
  },
  "cells": [
    {
      "cell_type": "markdown",
      "metadata": {
        "id": "view-in-github",
        "colab_type": "text"
      },
      "source": [
        "<a href=\"https://colab.research.google.com/github/chenweini/Computational-Thinking/blob/master/%E9%99%B3%E7%B7%AF%E5%A6%AE_week11.ipynb\" target=\"_parent\"><img src=\"https://colab.research.google.com/assets/colab-badge.svg\" alt=\"Open In Colab\"/></a>"
      ]
    },
    {
      "cell_type": "markdown",
      "metadata": {
        "id": "h6trc3_tog4_"
      },
      "source": [
        "習題解答:報告分組\n"
      ]
    },
    {
      "cell_type": "code",
      "metadata": {
        "colab": {
          "base_uri": "https://localhost:8080/"
        },
        "id": "VGgR-bTsos6i",
        "outputId": "b612e03e-35e2-41a7-c027-1e330449cd51"
      },
      "source": [
        "# 方法(一):商數\n",
        "## Input\n",
        "number = input(\"Enter your seat number?\" )\n",
        "number = int(number)\n",
        "## Process\n",
        "group = (number - 1) // 5\n",
        "## Output\n",
        "print(\"Groups is\", group)\n"
      ],
      "execution_count": 6,
      "outputs": [
        {
          "output_type": "stream",
          "text": [
            "Enter your seat number?80\n",
            "Groups is 15\n"
          ],
          "name": "stdout"
        }
      ]
    }
  ]
}