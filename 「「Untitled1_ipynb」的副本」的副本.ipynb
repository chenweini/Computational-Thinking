{
  "nbformat": 4,
  "nbformat_minor": 0,
  "metadata": {
    "colab": {
      "name": "「「Untitled1.ipynb」的副本」的副本",
      "provenance": [],
      "collapsed_sections": [],
      "authorship_tag": "ABX9TyM0wfU5Fa1Zh59aJDPhIz2c",
      "include_colab_link": true
    },
    "kernelspec": {
      "name": "python3",
      "display_name": "Python 3"
    }
  },
  "cells": [
    {
      "cell_type": "markdown",
      "metadata": {
        "id": "view-in-github",
        "colab_type": "text"
      },
      "source": [
        "<a href=\"https://colab.research.google.com/github/chenweini/Computational-Thinking/blob/master/%E3%80%8C%E3%80%8CUntitled1_ipynb%E3%80%8D%E7%9A%84%E5%89%AF%E6%9C%AC%E3%80%8D%E7%9A%84%E5%89%AF%E6%9C%AC.ipynb\" target=\"_parent\"><img src=\"https://colab.research.google.com/assets/colab-badge.svg\" alt=\"Open In Colab\"/></a>"
      ]
    },
    {
      "cell_type": "code",
      "metadata": {
        "colab": {
          "base_uri": "https://localhost:8080/",
          "height": 128
        },
        "id": "GXiKUml2EuCM",
        "outputId": "b59f659a-6060-4e04-e173-da1be0a6d3bb"
      },
      "source": [
        "print(\"歡迎光臨，很高興能為您服務\")\r\n",
        "print(\"a-日式\"，\"b-法式\"，\"c-韓式\"，\"d-中國菜\")\r\n",
        " ans = input(\"請輸入您喜好的菜式風格\")\r\n",
        " if ans ==\"c\"；\r\n",
        " print(\"a-辣炒年糕\"，\"b-海鮮煎餅\"，\"c-起司部隊鍋\")\r\n",
        "  q = input(\"請輸入喜歡的菜\")\r\n",
        "  if q ==\"a\":\r\n",
        "   print(\"80\")\r\n",
        "  if q ==\"b\":\r\n",
        "   print(\"200\")   \r\n",
        "  if q ==\"c\":\r\n",
        "   print(\"180\")\r\n"
      ],
      "execution_count": null,
      "outputs": [
        {
          "output_type": "error",
          "ename": "SyntaxError",
          "evalue": "ignored",
          "traceback": [
            "\u001b[0;36m  File \u001b[0;32m\"<ipython-input-12-2548cf6f28d1>\"\u001b[0;36m, line \u001b[0;32m2\u001b[0m\n\u001b[0;31m    print(\"a-日式\"，\"b-法式\"，\"c-韓式\"，\"d-中國菜\")\u001b[0m\n\u001b[0m                ^\u001b[0m\n\u001b[0;31mSyntaxError\u001b[0m\u001b[0;31m:\u001b[0m invalid character in identifier\n"
          ]
        }
      ]
    }
  ]
}