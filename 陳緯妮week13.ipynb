{
  "nbformat": 4,
  "nbformat_minor": 0,
  "metadata": {
    "colab": {
      "name": "陳緯妮week13.ipynb",
      "provenance": [],
      "authorship_tag": "ABX9TyPDG5P6jMVQYo/+dRxXJdm5",
      "include_colab_link": true
    },
    "kernelspec": {
      "name": "python3",
      "display_name": "Python 3"
    }
  },
  "cells": [
    {
      "cell_type": "markdown",
      "metadata": {
        "id": "view-in-github",
        "colab_type": "text"
      },
      "source": [
        "<a href=\"https://colab.research.google.com/github/chenweini/Computational-Thinking/blob/master/%E9%99%B3%E7%B7%AF%E5%A6%AEweek13.ipynb\" target=\"_parent\"><img src=\"https://colab.research.google.com/assets/colab-badge.svg\" alt=\"Open In Colab\"/></a>"
      ]
    },
    {
      "cell_type": "code",
      "metadata": {
        "colab": {
          "base_uri": "https://localhost:8080/"
        },
        "id": "W1QanEvjqLVQ",
        "outputId": "834ce9ed-fbd6-4580-ea45-202ba5698fb1"
      },
      "source": [
        "# 資料容器-List\n",
        "\n",
        "## 文字串列\n",
        "## 數字串列\n",
        "## 混和串列\n",
        "\n",
        "list = [1,2,3,4,5]\n",
        "\n",
        "\n",
        "\n",
        "\n",
        "\n",
        "# 数字串列二： range()\n",
        "list1 = [1,2,3,4,5]\n",
        "\n",
        "list2 = range(1,10000,1)#[1,2,3,4,5]\n",
        "\n",
        "list3 = range(1,6,2)#[1,3,5]\n",
        "\n",
        "# range(atart, stop, step)\n",
        "# [0,1,2,3,4,5,6,7,8,9]\n",
        "## start = 0, step = 1, stop = 10\n",
        "range(0,10,1)\n",
        "range(0,10)\n",
        "list4 = range(10)\n",
        "\n",
        "#[0,1,2,3,4]\n",
        "\n",
        "for i in range(5):\n",
        "    print(\"Hello\")\n",
        "\n",
        "#印出100個Hello\n",
        "for i in range(0,5,1):\n",
        "    print(\"Hello\")\n",
        "\n",
        "#[0,1,2,3,4,5]\n",
        "for i in range(0,5,1):\n",
        "    print(i)\n",
        "\n",
        "#[2,3,4,5]            \n",
        "for i in range(2,6,1):\n",
        "    print(i)\n"
      ],
      "execution_count": 5,
      "outputs": [
        {
          "output_type": "stream",
          "text": [
            "Hello\n",
            "Hello\n",
            "Hello\n",
            "Hello\n",
            "Hello\n",
            "Hello\n",
            "Hello\n",
            "Hello\n",
            "Hello\n",
            "Hello\n",
            "0\n",
            "1\n",
            "2\n",
            "3\n",
            "4\n",
            "2\n",
            "3\n",
            "4\n",
            "5\n"
          ],
          "name": "stdout"
        }
      ]
    },
    {
      "cell_type": "code",
      "metadata": {
        "colab": {
          "base_uri": "https://localhost:8080/"
        },
        "id": "j5SWptzO6_dk",
        "outputId": "30de0106-8d60-46cf-ffcb-eb8bc19c02fc"
      },
      "source": [
        "#數字1到10之和。\n",
        "## 1+2+3+4+5+6+7+8+9+10=?\n",
        "sum = 0 # 起始條件\n",
        "for i in range(1, 11, 1): #數字串列[1,2,3,4,5,6,7,8,9,10]\n",
        "    sum = sum + i # 加總運算,變更條件\n",
        "print(\"Total is\", sum)\n",
        "\n"
      ],
      "execution_count": 7,
      "outputs": [
        {
          "output_type": "stream",
          "text": [
            "Total is 55\n"
          ],
          "name": "stdout"
        }
      ]
    },
    {
      "cell_type": "code",
      "metadata": {
        "colab": {
          "base_uri": "https://localhost:8080/"
        },
        "id": "KR3kPy7x8puA",
        "outputId": "33a31927-1f61-4d3d-865f-53dc5d5e9ee8"
      },
      "source": [
        "# 2. 數字1到10奇數之和。\n",
        "## 1+3+5+7+9 = ?\n",
        "sum = 0 # 起始值\n",
        "for i in range(1, 11, 2): # 數字串列[1,3,5,7,9]\n",
        "    sum = sum + i # 加總運算,變更條件\n",
        "print(\"Total is\", sum)"
      ],
      "execution_count": 8,
      "outputs": [
        {
          "output_type": "stream",
          "text": [
            "Total is 25\n"
          ],
          "name": "stdout"
        }
      ]
    },
    {
      "cell_type": "code",
      "metadata": {
        "colab": {
          "base_uri": "https://localhost:8080/"
        },
        "id": "L3Cx4Sm29efh",
        "outputId": "bbfa6a3b-d5d5-4a4d-b9d3-406d4d24130e"
      },
      "source": [
        "# 2+4+6+8+10= ?\n",
        "sum = 0\n",
        "for i in range(2,11,2):\n",
        "   sum = sum + i\n",
        "print(\"Total is\", sum)"
      ],
      "execution_count": 11,
      "outputs": [
        {
          "output_type": "stream",
          "text": [
            "Total is 30\n"
          ],
          "name": "stdout"
        }
      ]
    },
    {
      "cell_type": "code",
      "metadata": {
        "id": "rmzmGU7N-iWV"
      },
      "source": [
        ""
      ],
      "execution_count": null,
      "outputs": []
    }
  ]
}