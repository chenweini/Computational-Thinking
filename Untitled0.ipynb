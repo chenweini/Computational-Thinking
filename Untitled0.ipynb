{
  "nbformat": 4,
  "nbformat_minor": 0,
  "metadata": {
    "colab": {
      "name": "Untitled0.ipynb",
      "provenance": [],
      "authorship_tag": "ABX9TyPEQKt+D4iQsTpeacrrVL2c",
      "include_colab_link": true
    },
    "kernelspec": {
      "name": "python3",
      "display_name": "Python 3"
    }
  },
  "cells": [
    {
      "cell_type": "markdown",
      "metadata": {
        "id": "view-in-github",
        "colab_type": "text"
      },
      "source": [
        "<a href=\"https://colab.research.google.com/github/chenweini/Computational-Thinking/blob/master/Untitled0.ipynb\" target=\"_parent\"><img src=\"https://colab.research.google.com/assets/colab-badge.svg\" alt=\"Open In Colab\"/></a>"
      ]
    },
    {
      "cell_type": "code",
      "metadata": {
        "colab": {
          "base_uri": "https://localhost:8080/"
        },
        "id": "pS4REnaGn2YL",
        "outputId": "79ea05e6-b084-4ea0-a71c-642950913069"
      },
      "source": [
        "hello1 = \"Hello World!\"\n",
        "hello2 = 'Hello Python'\n",
        "hello3 = \"Shaquile O'Neil\"\n",
        "\n",
        "s1 = \"123\"\n",
        "s2 = \"456\"\n",
        "s3 = s1 + s2\n",
        "print(s3)\n",
        "s4 = s1 * 2\n",
        "print(s4)\n",
        "\n",
        "(s1) = 'An apple a day.'\n",
        "print(s1.capitalize())\n",
        "print(s1.title())\n",
        "print(s1.swapcase())\n",
        "print(s1.upper())\n",
        "print(s1.lower())\n",
        "\n",
        "\n",
        "\n"
      ],
      "execution_count": 2,
      "outputs": [
        {
          "output_type": "stream",
          "text": [
            "123456\n",
            "123123\n",
            "An apple a day.\n",
            "An Apple A Day.\n",
            "aN APPLE A DAY.\n",
            "AN APPLE A DAY.\n",
            "an apple a day.\n"
          ],
          "name": "stdout"
        }
      ]
    },
    {
      "cell_type": "code",
      "metadata": {
        "colab": {
          "base_uri": "https://localhost:8080/"
        },
        "id": "tZwM1sJ4xGDW",
        "outputId": "f7618843-e523-4efc-9a10-8b69a17a8503"
      },
      "source": [
        "favorite_list = [\"dog\", \"cat\", \"apple\", \"guava\"]\n",
        "numlist = [\"1\",\"2\",\"3\",\"4\",\"5\"]\n",
        "print(numlist[1])"
      ],
      "execution_count": 3,
      "outputs": [
        {
          "output_type": "stream",
          "text": [
            "2\n"
          ],
          "name": "stdout"
        }
      ]
    },
    {
      "cell_type": "code",
      "metadata": {
        "colab": {
          "base_uri": "https://localhost:8080/"
        },
        "id": "r8vy_uOV6OcY",
        "outputId": "676c0bef-9af1-4123-c0e7-18b6423050e9"
      },
      "source": [
        "season = \"1995-1996\"\n",
        "team = \"Chicago Bulls\"\n",
        "coach = \"Phil Jackson\"\n",
        "records = [72, 10]\n",
        "starting_lineup = [\"Ron Harper\", \"Michael Jordan\", \"Scottie\",\"Pippen\", \"Dennis Rodman\", \"Luc Longley\"]\n",
        "won_championship = True\n",
        "\n",
        "best_chicago_bulls = list((season, team, coach, records,\n",
        "starting_lineup, won_championship))\n",
        "print(best_chicago_bulls)\n",
        "print(type(best_chicago_bulls))"
      ],
      "execution_count": 6,
      "outputs": [
        {
          "output_type": "stream",
          "text": [
            "['1995-1996', 'Chicago Bulls', 'Phil Jackson', [72, 10], ['Ron Harper', 'Michael Jordan', 'Scottie', 'Pippen', 'Dennis Rodman', 'Luc Longley'], True]\n",
            "<class 'list'>\n"
          ],
          "name": "stdout"
        }
      ]
    }
  ]
}