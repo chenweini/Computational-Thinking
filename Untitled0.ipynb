{
  "nbformat": 4,
  "nbformat_minor": 0,
  "metadata": {
    "colab": {
      "name": "Untitled0.ipynb",
      "provenance": [],
      "authorship_tag": "ABX9TyNW001JyPreAvdBK9pUEmRe",
      "include_colab_link": true
    },
    "kernelspec": {
      "name": "python3",
      "display_name": "Python 3"
    }
  },
  "cells": [
    {
      "cell_type": "markdown",
      "metadata": {
        "id": "view-in-github",
        "colab_type": "text"
      },
      "source": [
        "<a href=\"https://colab.research.google.com/github/chenweini/Computational-Thinking/blob/master/Untitled0.ipynb\" target=\"_parent\"><img src=\"https://colab.research.google.com/assets/colab-badge.svg\" alt=\"Open In Colab\"/></a>"
      ]
    },
    {
      "cell_type": "code",
      "metadata": {
        "colab": {
          "base_uri": "https://localhost:8080/"
        },
        "id": "nLEkztjnwDyE",
        "outputId": "3dd7ac64-6d09-4a97-95f8-51c7d21084ed"
      },
      "source": [
        "n = int(input(\"請輸入n值?\"))\r\n",
        "sum = 0\r\n",
        "for i in range(1, n + 1):\r\n",
        "    sum = sum + i*i\r\n",
        "print(\"total is\", su)    "
      ],
      "execution_count": 1,
      "outputs": [
        {
          "output_type": "stream",
          "text": [
            "請輸入n值?5\n",
            "total is 55\n"
          ],
          "name": "stdout"
        }
      ]
    },
    {
      "cell_type": "code",
      "metadata": {
        "colab": {
          "base_uri": "https://localhost:8080/"
        },
        "id": "lYq1_rhC3kV-",
        "outputId": "5d69cadf-a91a-43f8-bc81-b192bcc27c58"
      },
      "source": [
        "people = [\"q\", \"w\", \"s\"]\r\n",
        "desserts = [\"z\", \"x\", \"y\"]\r\n",
        "for index in range(len(people)):\r\n",
        "    name = people[index]\r\n",
        "    dessert = desserts[index]\r\n",
        "    print(f\"Hi! My name is {name}. My favorite dessert is {dessert}.\")"
      ],
      "execution_count": 6,
      "outputs": [
        {
          "output_type": "stream",
          "text": [
            "Hi! My name is q. My favorite dessert is z.\n",
            "Hi! My name is w. My favorite dessert is x.\n",
            "Hi! My name is s. My favorite dessert is y.\n"
          ],
          "name": "stdout"
        }
      ]
    }
  ]
}