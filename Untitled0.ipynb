{
  "nbformat": 4,
  "nbformat_minor": 0,
  "metadata": {
    "colab": {
      "name": "Untitled0.ipynb",
      "provenance": [],
      "authorship_tag": "ABX9TyPDm8iLZoD9CDUgK8GYrPeR",
      "include_colab_link": true
    },
    "kernelspec": {
      "name": "python3",
      "display_name": "Python 3"
    }
  },
  "cells": [
    {
      "cell_type": "markdown",
      "metadata": {
        "id": "view-in-github",
        "colab_type": "text"
      },
      "source": [
        "<a href=\"https://colab.research.google.com/github/chenweini/Computational-Thinking/blob/master/Untitled0.ipynb\" target=\"_parent\"><img src=\"https://colab.research.google.com/assets/colab-badge.svg\" alt=\"Open In Colab\"/></a>"
      ]
    },
    {
      "cell_type": "code",
      "metadata": {
        "id": "1YqYMJyv__EY",
        "outputId": "36bb7b01-9f19-49fa-97a5-915b6e0ed239",
        "colab": {
          "base_uri": "https://localhost:8080/"
        }
      },
      "source": [
        "cloth = int(input(\"請輸入上衣的數量?\"))\n",
        "trousers = int(input(\"請輸入褲子的數量?\"))\n",
        "drink = int(input(\"請輸入飲料的數量?\"))\n",
        "\n",
        "total = cloth+trousers+drink\n",
        "print(\"訂購的總數量為\",total)\n",
        "print(\"訂購的平均為\",total/3)"
      ],
      "execution_count": 10,
      "outputs": [
        {
          "output_type": "stream",
          "text": [
            "請輸入上衣的數量?40\n",
            "請輸入褲子的數量?40\n",
            "請輸入飲料的數量?40\n",
            "訂購的總數量為 120\n",
            "訂購的平均為 40.0\n"
          ],
          "name": "stdout"
        }
      ]
    }
  ]
}